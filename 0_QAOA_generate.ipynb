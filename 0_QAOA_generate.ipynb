{
 "cells": [
  {
   "cell_type": "code",
   "execution_count": 2,
   "metadata": {},
   "outputs": [],
   "source": [
    "import pandas as pd\n",
    "import numpy as np\n",
    "\n",
    "# input data 부분 필요 라이브러리\n",
    "import kqc_custom\n",
    "from dataclasses import dataclass, field, asdict, astuple\n",
    "from typing import List, ClassVar\n",
    "import ast  # 입력 문자 beta coef, integer 로 변환에 사용하는 부분\n",
    "\n",
    "# Simulated Annealing 필요 라이브러리\n",
    "from sa_basefunctions import get_aic, get_bic, get_mspe, get_bin, flip\n",
    "from sa_SimulatedAnnealing import SimulatedAnnealing\n",
    "\n",
    "# Genetic Algorithm 필요 라이브러리 "
   ]
  },
  {
   "cell_type": "markdown",
   "metadata": {},
   "source": [
    "## Data Generator 구현 부분\n",
    "\n",
    "*Data Generating Function 함수 설명*\n",
    "\n",
    "$y = X \\beta + \\epsilon$\n",
    "\n",
    "kqc_custom.generate_independent_sample(n_sample,n_features,beta_coef=[4,3,2,2],epsilon=4)  \n",
    "kqc_custom.generate_dependent_sample(n_sample,n_features,beta_coef=[4,3,2,2],epsilon=4,correlation_parameter=1)\n",
    "\n",
    "- n_samples : 데이터 샘플 수\n",
    "- n_features : 데이터 피쳐 개수\n",
    "- beta_coef : beta계수\n",
    "- epsilon : 오차의 표준편차 정도\n",
    "- correlation_parameter\n"
   ]
  },
  {
   "cell_type": "code",
   "execution_count": 3,
   "metadata": {},
   "outputs": [],
   "source": [
    "# inout parameter 가져오기\n",
    "KQC_data_parameter = pd.read_excel('input_parameter.xlsx')"
   ]
  },
  {
   "cell_type": "markdown",
   "metadata": {},
   "source": [
    "Example of input data generator funvtion's parameter input from EXCEL (.xlcs file)\n",
    "\n",
    "    아래에 간단한 예시로 4개의 데이터의 경우를 예시로 들었습니다."
   ]
  },
  {
   "cell_type": "code",
   "execution_count": 4,
   "metadata": {},
   "outputs": [
    {
     "data": {
      "text/html": [
       "<div>\n",
       "<style scoped>\n",
       "    .dataframe tbody tr th:only-of-type {\n",
       "        vertical-align: middle;\n",
       "    }\n",
       "\n",
       "    .dataframe tbody tr th {\n",
       "        vertical-align: top;\n",
       "    }\n",
       "\n",
       "    .dataframe thead th {\n",
       "        text-align: right;\n",
       "    }\n",
       "</style>\n",
       "<table border=\"1\" class=\"dataframe\">\n",
       "  <thead>\n",
       "    <tr style=\"text-align: right;\">\n",
       "      <th></th>\n",
       "      <th>지정 데이터명</th>\n",
       "      <th>n_samples</th>\n",
       "      <th>n_features</th>\n",
       "      <th>beta_coef</th>\n",
       "      <th>epsilon</th>\n",
       "      <th>correlation</th>\n",
       "      <th>is_independent</th>\n",
       "    </tr>\n",
       "  </thead>\n",
       "  <tbody>\n",
       "    <tr>\n",
       "      <th>0</th>\n",
       "      <td>data1</td>\n",
       "      <td>500</td>\n",
       "      <td>10</td>\n",
       "      <td>[4,3,2,2]</td>\n",
       "      <td>1</td>\n",
       "      <td>1</td>\n",
       "      <td>independent</td>\n",
       "    </tr>\n",
       "    <tr>\n",
       "      <th>1</th>\n",
       "      <td>data2</td>\n",
       "      <td>500</td>\n",
       "      <td>10</td>\n",
       "      <td>[4,3,2,2]</td>\n",
       "      <td>2</td>\n",
       "      <td>1</td>\n",
       "      <td>independent</td>\n",
       "    </tr>\n",
       "    <tr>\n",
       "      <th>2</th>\n",
       "      <td>data3</td>\n",
       "      <td>500</td>\n",
       "      <td>10</td>\n",
       "      <td>[4,3,2,2]</td>\n",
       "      <td>3</td>\n",
       "      <td>1</td>\n",
       "      <td>independent</td>\n",
       "    </tr>\n",
       "    <tr>\n",
       "      <th>3</th>\n",
       "      <td>data4</td>\n",
       "      <td>500</td>\n",
       "      <td>10</td>\n",
       "      <td>[4,3,2,2]</td>\n",
       "      <td>4</td>\n",
       "      <td>1</td>\n",
       "      <td>independent</td>\n",
       "    </tr>\n",
       "  </tbody>\n",
       "</table>\n",
       "</div>"
      ],
      "text/plain": [
       "  지정 데이터명  n_samples  n_features  ... epsilon  correlation  is_independent\n",
       "0   data1        500          10  ...       1            1     independent\n",
       "1   data2        500          10  ...       2            1     independent\n",
       "2   data3        500          10  ...       3            1     independent\n",
       "3   data4        500          10  ...       4            1     independent\n",
       "\n",
       "[4 rows x 7 columns]"
      ]
     },
     "execution_count": 4,
     "metadata": {},
     "output_type": "execute_result"
    }
   ],
   "source": [
    "KQC_data_parameter"
   ]
  },
  {
   "cell_type": "code",
   "execution_count": 5,
   "metadata": {},
   "outputs": [],
   "source": [
    "def read_excel2tuple():\n",
    "    '''\n",
    "        row 별로 data를 슬라이싱 해주는 Tuple로 변환\n",
    "    '''\n",
    "    df = pd.read_excel('input_parameter.xlsx')\n",
    "    return list(df.itertuples(name=None))"
   ]
  },
  {
   "cell_type": "code",
   "execution_count": 6,
   "metadata": {},
   "outputs": [],
   "source": [
    "Tupled_df_KQC_data_parameter = list(KQC_data_parameter.itertuples(name=None))"
   ]
  },
  {
   "cell_type": "code",
   "execution_count": 7,
   "metadata": {},
   "outputs": [
    {
     "data": {
      "text/plain": [
       "[0, 'data1', 500, 10, '[4,3,2,2]', 1, 1, 'independent']"
      ]
     },
     "execution_count": 7,
     "metadata": {},
     "output_type": "execute_result"
    }
   ],
   "source": [
    "list(list(KQC_data_parameter.itertuples(name=None))[0])"
   ]
  },
  {
   "cell_type": "markdown",
   "metadata": {},
   "source": [
    "EXCEL 의 dataframee 의 pandas로 받아서, "
   ]
  },
  {
   "cell_type": "code",
   "execution_count": 8,
   "metadata": {},
   "outputs": [],
   "source": [
    "from typing import ClassVar\n",
    "@dataclass\n",
    "class data_generator:\n",
    "    count_data : ClassVar[int] = 1  # 전치 처리위한 class variable\n",
    "\n",
    "    # KQC custom file // data generator function's parameter\n",
    "    n_samples : int                 # 데이터 샘플 수\n",
    "    n_features : int                # 데이터 피쳐 개수\n",
    "    beta_coef : float               # beta 계수\n",
    "    epsilon : float                 # 오차의 표준편차 정도\n",
    "    correlation_parameter : float   # 상관계수 ?\n",
    "\n",
    "    # kqc data generator dependent / inpependent 선택 부분 \n",
    "    is_independent : str            # is_independent\n",
    "    data_name : str                 # 지정 데이터명\n",
    "\n",
    "    def __post_init__(self):\n",
    "        data_generator.count_data += 1  # class 생성 data counter\n",
    "      \n",
    "    # parameter 입력 받기 \n",
    "    @classmethod\n",
    "    def create(cls): \n",
    "        data = cls() \n",
    "        return data\n",
    "    \n",
    "    @classmethod\n",
    "    def data_counter(cls):\n",
    "        return [ 'data' + str(i) for i in range(cls.count_data)]\n",
    "\n",
    "    #KQC_custom 의 data generator 로 부터 data 생성 class\n",
    "    def data_gen(self):\n",
    "        data_gened = []\n",
    "        if self.is_independent == 'dependent':\n",
    "            x, y = kqc_custom.generate_dependent_sample( self.n_samples,\n",
    "                                                  self.n_features,\n",
    "                                                  self.beta_coef,\n",
    "                                                  self.epsilon,\n",
    "                                                  self.correlation_parameter\n",
    "            )\n",
    "        else:\n",
    "            x, y = kqc_custom.generate_independent_sample( self.n_samples,\n",
    "                                                  self.n_features,\n",
    "                                                  self.beta_coef,\n",
    "                                                  self.epsilon,\n",
    "                                                  self.correlation_parameter\n",
    "            )\n",
    "        data_gened.append(x)\n",
    "        data_gened.append(y)\n",
    "        return data_gened\n",
    "# data_name : str \n",
    "# paeameter : List[float] = field(default_factory=list)"
   ]
  },
  {
   "cell_type": "code",
   "execution_count": 9,
   "metadata": {},
   "outputs": [
    {
     "data": {
      "text/plain": [
       "[4, 3, 2, 2]"
      ]
     },
     "execution_count": 9,
     "metadata": {},
     "output_type": "execute_result"
    }
   ],
   "source": [
    "ast.literal_eval(list(list(KQC_data_parameter.itertuples(name=None))[0])[4])"
   ]
  },
  {
   "cell_type": "code",
   "execution_count": 10,
   "metadata": {},
   "outputs": [],
   "source": [
    "# class data generator 로 부터, 입력 데이터 리스트의 수 만큼 리스트 생성 \n",
    "def list_gen_from_class(df):\n",
    "    generated_data_list = []\n",
    "    Tupled_df_KQC_data_parameter = read_excel2tuple()\n",
    "    for i in range(len(Tupled_df_KQC_data_parameter)):\n",
    "        data_list_Row = list(list(df.itertuples(name=None))[i])\n",
    "        generated_data_list.append(data_generator(n_samples= data_list_Row[2],\n",
    "                                                n_features= data_list_Row[3],\n",
    "                                                beta_coef= ast.literal_eval(data_list_Row[4]),\n",
    "                                                epsilon= data_list_Row[5],\n",
    "                                                correlation_parameter= data_list_Row[6],\n",
    "                                                is_independent= data_list_Row[7],\n",
    "                                                data_name=data_list_Row[1]\n",
    "            )\n",
    "        )\n",
    "    return generated_data_list"
   ]
  },
  {
   "cell_type": "markdown",
   "metadata": {},
   "source": [
    "다음은 generated data list 의 형태를 보여주는 예시입니다.  \n",
    "\n",
    "아래의 예시와 같이 각 리스트에서 KQC_ independent / dependent data 의 생성되는  \n",
    "x , y 의 값이 N(excel input 데이터수) by 2 의 size 리스트 입니다.  "
   ]
  },
  {
   "cell_type": "code",
   "execution_count": 11,
   "metadata": {},
   "outputs": [],
   "source": [
    "generated_data_list = list_gen_from_class(KQC_data_parameter)\n",
    "#generated_data 의 length --> 클래스 변수에서 선언횟수 카운터로 선언했으므로 \n",
    "# 임의의 첫번쨰 선언 instance 에서 클래스 매서드를 호출하면 조정없이 가능\n",
    "data_key = generated_data_list[0].data_counter()"
   ]
  },
  {
   "cell_type": "markdown",
   "metadata": {},
   "source": [
    "리스트와 동일하지만 검색에 유용하기 위해서, 데이터 명으로 검색을 하기 위해서 딕셔너리로 변환하는  부분을 작성해 보았습니다.  "
   ]
  },
  {
   "cell_type": "code",
   "execution_count": 12,
   "metadata": {},
   "outputs": [],
   "source": [
    "generated_data_dict = {}\n",
    "for i in range(len(generated_data_list)):\n",
    "    '''\n",
    "        클래스에서 선언 인스턴스 개수로 자동 카운트 되는 이름명은 윗 코드\n",
    "        dataframe 에서 선언한 '지정 데이터명'을 사용한다면 아래 코드를 사용하면 됩니다.\n",
    "    '''\n",
    "    generated_data_dict[data_key[i]] = generated_data_list[i]\n",
    "    # list(KQC_data_parameter.loc[:,'지정 데이터명'])[i] = generated_data_list[i]"
   ]
  },
  {
   "cell_type": "code",
   "execution_count": 13,
   "metadata": {},
   "outputs": [
    {
     "data": {
      "text/plain": [
       "data_generator(n_samples=500, n_features=10, beta_coef=[4, 3, 2, 2], epsilon=4, correlation_parameter=1, is_independent='independent', data_name='data4')"
      ]
     },
     "execution_count": 13,
     "metadata": {},
     "output_type": "execute_result"
    }
   ],
   "source": [
    "generated_data_dict['data3']"
   ]
  },
  {
   "cell_type": "code",
   "execution_count": 14,
   "metadata": {},
   "outputs": [
    {
     "data": {
      "text/plain": [
       "{'n_samples': 500,\n",
       " 'n_features': 10,\n",
       " 'beta_coef': [4, 3, 2, 2],\n",
       " 'epsilon': 4,\n",
       " 'correlation_parameter': 1,\n",
       " 'is_independent': 'independent',\n",
       " 'data_name': 'data4'}"
      ]
     },
     "execution_count": 14,
     "metadata": {},
     "output_type": "execute_result"
    }
   ],
   "source": [
    "# 클래스 구조를 가짐으로서 data 이름을 검색한것으로 부터 parameter를 쉽게 확인할 수 있습니다.\n",
    "generated_data_dict['data3'].__dict__"
   ]
  },
  {
   "cell_type": "code",
   "execution_count": 15,
   "metadata": {},
   "outputs": [
    {
     "data": {
      "text/plain": [
       "[array([[ 1.62434536, -0.61175641, -0.52817175, ..., -0.7612069 ,\n",
       "          0.3190391 , -0.24937038],\n",
       "        [ 1.46210794, -2.06014071, -0.3224172 , ..., -0.87785842,\n",
       "          0.04221375,  0.58281521],\n",
       "        [-1.10061918,  1.14472371,  0.90159072, ..., -0.93576943,\n",
       "         -0.26788808,  0.53035547],\n",
       "        ...,\n",
       "        [-2.01516818, -0.99690494, -1.03425079, ..., -1.16362557,\n",
       "          0.06157423, -0.57646002],\n",
       "        [-1.5929365 ,  0.71568559,  0.9248516 , ..., -0.38246272,\n",
       "          0.97307106,  1.06971394],\n",
       "        [-0.54441474, -0.06307104,  0.89381886, ..., -0.77598779,\n",
       "          1.08488869,  2.24198946]]),\n",
       " array([-2.23918967e+00,  2.77062608e+00, -2.67530053e+00, -9.92061076e+00,\n",
       "         9.54648348e-01,  2.91207576e+00,  2.26725404e+00, -7.23531689e+00,\n",
       "         4.12832328e+00,  6.09632648e+00,  5.34863852e+00, -1.07366807e+01,\n",
       "         4.52824111e+00, -7.11761308e+00, -4.09005398e+00, -3.29252435e+00,\n",
       "         2.54994490e+00,  7.94742650e+00, -3.94756430e-01,  1.20172369e+01,\n",
       "         3.46212795e+00, -2.68403117e+00,  1.02450009e+01,  2.22639603e+00,\n",
       "        -8.21260730e+00, -1.26508153e+00, -1.38068091e+00,  6.96972979e+00,\n",
       "        -2.88852581e+00,  1.08172482e+00, -2.75802242e+00,  1.33965528e+01,\n",
       "        -7.58700281e+00,  1.45350552e+00,  8.67930640e+00,  6.38869994e+00,\n",
       "        -8.50714386e+00, -3.68042024e+00, -3.27929613e+00,  3.22386793e+00,\n",
       "        -6.41711040e-01,  7.85933833e+00,  1.37916987e+00,  1.03538921e+01,\n",
       "         2.46414768e+00, -4.13993158e-01, -4.19737517e+00,  4.94974329e+00,\n",
       "        -3.04475169e+00,  2.77293652e+00, -1.04111333e+01,  4.10145401e+00,\n",
       "         5.09891789e+00,  1.34962793e+00, -6.91117156e+00, -5.10156159e+00,\n",
       "         9.41354387e+00,  5.58694123e+00, -6.97962911e+00,  5.79520758e+00,\n",
       "         5.67089974e+00,  3.43726925e+00, -5.81609921e+00, -1.76601473e+00,\n",
       "         1.12992671e+01,  1.20711895e+01, -8.81393173e+00, -4.64419429e+00,\n",
       "         6.46266247e+00, -2.79700210e+00,  4.77439100e+00, -1.54415826e+01,\n",
       "        -8.02036317e+00,  1.29008427e+01,  8.02894255e+00,  1.11488531e+01,\n",
       "         5.90951405e+00, -2.99512199e-01, -1.12339213e+00, -1.44699638e+01,\n",
       "        -3.81193016e+00, -1.05232449e+01, -1.03097957e+00,  4.74726224e-01,\n",
       "         1.75813186e+00,  3.03497471e+00, -1.00908335e+01,  7.99813504e+00,\n",
       "         1.44855031e+00, -4.91668285e+00,  3.77851316e-01,  2.92548346e+00,\n",
       "         8.29195926e+00,  4.14676343e+00,  1.06272735e+01,  3.01946541e-01,\n",
       "        -1.35141725e+00, -8.20043202e+00,  6.18426237e+00,  6.07057294e+00,\n",
       "         3.38081507e+00, -7.51880305e+00,  2.63637630e+00,  3.19944448e+00,\n",
       "        -3.24526500e+00, -1.00241040e+01, -6.29039173e-01, -9.43210343e-02,\n",
       "         7.46444383e+00,  7.70568372e+00,  3.39867023e+00,  2.48138384e+00,\n",
       "         4.90584695e+00, -1.68494314e+00,  1.22806580e+00,  4.52975693e-01,\n",
       "        -9.44615730e+00,  6.58696896e+00, -5.12383340e+00,  6.65474255e-01,\n",
       "        -1.26771376e+00, -1.54367063e+00,  9.47227264e+00,  7.34907394e+00,\n",
       "        -3.95231366e-01, -8.91211755e+00,  5.98262809e+00, -4.06676141e+00,\n",
       "         2.64045518e+00, -1.52353796e+00, -4.87771817e-01, -1.38756830e+00,\n",
       "         1.20876500e+01,  1.67828536e+00,  6.61696365e+00,  2.10756092e+00,\n",
       "         6.65046184e+00, -3.35146553e+00, -4.27915503e+00, -5.33223252e+00,\n",
       "         9.43308543e+00,  4.40077444e+00, -5.98036481e+00, -4.65713260e+00,\n",
       "         5.38137308e+00,  9.06266553e-01, -8.90668157e+00,  5.58753141e+00,\n",
       "         6.03406471e+00, -8.65999685e+00,  2.07497147e+00, -3.77247433e+00,\n",
       "        -1.70729215e+00, -1.11795598e+01,  2.04800986e+00, -8.59563598e+00,\n",
       "         1.63502889e+00, -6.30016521e-01, -3.24772076e+00, -8.12432146e+00,\n",
       "        -2.93212348e+00, -7.07371648e+00, -5.61073851e+00,  5.61189588e-01,\n",
       "        -1.24423606e+00, -1.12507014e+01, -3.24509470e+00, -7.60313079e+00,\n",
       "        -4.85590614e-01,  3.27659398e+00, -6.01663702e+00,  9.21142925e-01,\n",
       "        -9.69857264e+00,  2.36540920e+00,  3.58117197e+00, -2.07962677e+00,\n",
       "         4.26696487e+00, -5.98550890e+00,  1.20241719e+01, -1.94962013e+00,\n",
       "        -1.25415573e+00,  5.33209540e+00,  1.75314639e+00, -2.18052477e+00,\n",
       "         8.62558374e-01, -4.60077923e+00,  1.51463580e+01, -1.00821439e+01,\n",
       "         3.24583625e+00,  1.84699738e+00, -2.35838195e+00, -1.44881595e+00,\n",
       "         1.39844822e+01,  1.01028682e+01, -1.94760501e-01,  1.42594527e+00,\n",
       "        -1.41009865e+01, -2.23074836e+00,  1.77966922e+01,  2.87704349e+00,\n",
       "        -1.10034604e-01,  1.10484882e+00, -1.46866585e+01,  2.64871465e+00,\n",
       "         1.48502784e+00, -6.33564231e+00, -5.10286335e+00,  7.58591961e+00,\n",
       "         1.39657703e-01, -4.00581499e+00,  9.18644232e-01,  3.66508263e+00,\n",
       "        -1.09914336e+01,  1.87938786e+00, -5.83286517e+00, -8.10933180e+00,\n",
       "         3.76086390e+00,  6.53804906e-01,  3.24289991e+00,  5.64756931e+00,\n",
       "        -5.34511295e+00,  5.81986874e+00, -7.68911582e+00, -7.29231879e+00,\n",
       "        -2.21857859e+00,  3.78715539e+00,  3.13124064e+00,  4.80292581e-01,\n",
       "         2.78198404e+00, -9.29189741e+00, -6.88564584e+00, -7.95235297e-01,\n",
       "        -2.09492179e+00,  7.92213038e-01, -1.49386396e+01,  4.89103010e+00,\n",
       "        -2.36555449e+00, -1.38923294e+00,  7.09028030e+00,  2.64725801e+00,\n",
       "         2.06146690e+00,  5.57510548e+00,  7.52582319e+00,  7.41398227e-01,\n",
       "         9.65743429e+00, -1.21105435e+00, -1.56041069e+01,  1.12197644e+01,\n",
       "         7.11411141e-01, -6.96336937e+00, -4.86463016e-01, -2.66643868e+00,\n",
       "        -5.17381194e+00, -1.71686496e+00,  1.40758575e+01,  1.26219819e+00,\n",
       "         1.40319682e+00, -6.45495994e+00, -1.53272993e+01,  1.96968747e+00,\n",
       "         8.57312890e+00, -3.74587366e+00,  1.07743387e+01,  7.59816511e-01,\n",
       "         6.07942473e+00,  2.79364632e+00,  2.30028004e+00,  4.79554180e+00,\n",
       "        -5.82925830e+00, -5.35546273e+00, -8.66020053e+00, -5.42790570e+00,\n",
       "        -1.06886318e-01, -3.75641292e+00, -1.12941935e+00,  9.75102563e+00,\n",
       "         4.23761241e+00,  1.10478946e+01, -5.61941232e+00, -1.80010295e+00,\n",
       "        -6.26317387e+00,  1.30014454e-01,  1.86679102e+01,  7.32432833e+00,\n",
       "        -2.80379046e+00, -7.66120432e+00, -3.52187446e+00, -5.33455373e+00,\n",
       "         1.10553289e+01, -6.62079330e+00,  3.54399418e+00, -1.35221583e+01,\n",
       "        -6.40318123e+00,  7.41575432e+00, -5.43261038e+00, -5.44441653e+00,\n",
       "        -4.79541800e+00,  7.34342468e+00, -9.22601857e+00,  1.13542335e+01,\n",
       "         1.74548892e+00,  1.30663600e+01,  1.44403694e+01,  5.68445622e+00,\n",
       "         1.05482273e+00, -9.02302828e+00,  5.71153208e+00,  1.16060063e+01,\n",
       "         6.09343475e+00,  6.62115421e+00,  1.88961764e+00,  1.38350254e+01,\n",
       "         5.31315313e+00, -4.09840802e+00,  2.62243049e+00, -2.56045627e+00,\n",
       "         1.04401107e+01,  1.59896588e+01,  2.69316720e+00, -6.89342220e+00,\n",
       "         4.59386645e+00,  1.12348669e-01, -5.46476112e+00, -2.22881031e+00,\n",
       "         4.42968700e-01, -9.68231367e+00,  4.67385590e+00,  1.85050175e+00,\n",
       "        -6.43862342e+00, -1.41678842e+01, -1.88246898e-01, -4.57721128e-01,\n",
       "        -1.43673870e+01,  1.10826561e+01,  2.99439181e+00,  8.55411949e+00,\n",
       "         1.89096679e+00, -3.63844308e-01, -7.91296771e+00, -4.76189489e+00,\n",
       "        -4.94830055e+00, -1.14766012e+00,  9.08726317e+00,  1.72369431e+00,\n",
       "        -6.66778653e+00,  1.19248514e+00, -1.13625995e+01,  1.60087739e+00,\n",
       "         9.67947439e+00, -3.01876504e+00, -4.80099019e+00, -5.97709231e+00,\n",
       "        -7.74039999e+00, -1.02448914e+00, -7.76623803e+00,  2.79099636e+00,\n",
       "         5.07716801e-01, -6.30708940e+00, -1.68105235e+01, -1.07737671e+00,\n",
       "         4.51845724e+00, -4.53537834e+00, -4.33338841e+00, -4.52357600e+00,\n",
       "        -2.20773560e+00, -1.19731242e+01,  8.51233181e+00, -2.79217271e+00,\n",
       "         4.75125744e+00, -3.04812755e+00,  3.70630029e+00,  3.49517303e+00,\n",
       "        -1.57105916e+00, -7.15839461e-02,  1.05719788e+00, -6.64496801e+00,\n",
       "         2.46510079e+00, -1.73473246e+00, -4.56550306e+00, -3.68003326e+00,\n",
       "         2.89589582e+00,  5.93888214e-01, -7.11357635e+00,  1.66268002e+01,\n",
       "        -5.20811525e-02, -2.22499351e+00, -7.21793933e+00, -3.82362093e+00,\n",
       "        -2.59922594e+00,  8.82645076e+00, -3.83252123e+00,  5.63385443e+00,\n",
       "        -2.45565187e+00,  7.28277347e+00,  1.08358161e+01,  5.50527149e+00,\n",
       "        -1.56863710e+00, -3.49786965e+00,  6.95328935e+00, -4.86767793e+00,\n",
       "         3.95670856e+00,  9.63510918e+00, -2.26624173e+00, -1.06019641e+01,\n",
       "         2.19003966e+00, -9.46694016e+00,  1.46703670e+00,  2.00416940e+00,\n",
       "        -6.58488842e+00, -1.00294488e+00, -1.49708675e+01,  8.31882896e+00,\n",
       "        -2.29341642e+00,  3.28418887e+00, -2.62780116e+00,  4.69410848e+00,\n",
       "        -2.50467744e+00, -7.00248599e+00,  1.03918328e+01, -9.27775995e+00,\n",
       "        -1.15559218e+00,  5.88298980e-02,  9.60397220e+00,  1.31867748e+01,\n",
       "         1.08553550e+01, -4.59684193e+00,  2.55536005e+00, -7.62236389e+00,\n",
       "         9.37089444e+00,  8.79814847e+00,  6.22172817e-01,  7.47167370e+00,\n",
       "        -7.96300304e+00, -1.71974334e+00,  8.20217934e+00, -5.54496194e+00,\n",
       "        -3.25697662e+00,  4.64990245e-01,  1.00651850e+00, -4.85877717e+00,\n",
       "         2.59420509e+00, -1.20625387e+00,  2.02445565e+00,  3.91203724e+00,\n",
       "        -5.66568121e+00,  1.83301821e+00, -9.52989849e-01,  1.29328047e+01,\n",
       "         7.22294350e-01,  8.01377354e+00, -3.87196070e-01, -4.62406809e+00,\n",
       "         1.23826067e+00,  1.75960130e+01, -2.31473527e+00, -4.56985405e+00,\n",
       "        -5.36352394e+00,  7.63920362e+00,  9.18722324e-01,  3.39746327e+00,\n",
       "         1.36353837e+01, -1.10242034e+01, -6.28998754e+00,  2.81785812e+00,\n",
       "         1.74073299e+00,  5.66280882e+00, -1.07031772e+01, -2.16604777e-03,\n",
       "         1.36752633e+01,  6.79686027e+00, -1.15059004e+00,  6.75593183e+00,\n",
       "         1.23636243e+01,  2.68911809e+00,  4.04604656e+00, -5.00547366e+00,\n",
       "         1.68578039e+01, -7.00444023e+00, -2.70637070e+00, -5.38185960e+00,\n",
       "        -4.57616544e+00,  4.50698808e+00,  4.87409435e+00, -6.22166840e+00,\n",
       "        -1.26097841e+01,  9.98038712e+00,  1.02077426e+01,  6.12526074e+00,\n",
       "        -3.83907572e+00, -1.07052057e+01,  1.12891729e+00,  5.93591682e-01,\n",
       "         1.82905452e+00, -8.39218816e+00, -1.49607740e+01, -1.99121299e+00,\n",
       "        -1.10502209e+01, -1.50813086e+01, -5.04888095e+00, -3.45861367e-01])]"
      ]
     },
     "execution_count": 15,
     "metadata": {},
     "output_type": "execute_result"
    }
   ],
   "source": [
    "# 저장된 클래스 인스턴스로 부터 데이터 생성하기 \n",
    "generated_data_dict['data3'].data_gen()"
   ]
  },
  {
   "cell_type": "markdown",
   "metadata": {},
   "source": [
    "## 알고리즘 적용 부분"
   ]
  },
  {
   "cell_type": "markdown",
   "metadata": {},
   "source": [
    "### QAOA"
   ]
  },
  {
   "cell_type": "code",
   "execution_count": 39,
   "metadata": {},
   "outputs": [],
   "source": [
    "from qiskit import Aer,IBMQ\n",
    "from qiskit.utils import algorithm_globals, QuantumInstance"
   ]
  },
  {
   "cell_type": "code",
   "execution_count": 40,
   "metadata": {},
   "outputs": [],
   "source": [
    "from QAOA_algorithm import QAOA, result_container\n",
    "from QAOA_results import qaoa_Results"
   ]
  },
  {
   "cell_type": "code",
   "execution_count": 19,
   "metadata": {},
   "outputs": [],
   "source": [
    "# 인턴 최동수 토큰 \n",
    "TOKEN = \"3fe453517228f7d730aa0d601175feba50b9e15ad101299a1361277d94a5e3f083c99e1b9d43c27049117b5f42717593b4c9bbd330bf657da722e1ddb35aca4e\"\n",
    "provider = IBMQ.save_account(TOKEN, overwrite = True)\n",
    "provider = IBMQ.load_account()"
   ]
  },
  {
   "cell_type": "code",
   "execution_count": 20,
   "metadata": {},
   "outputs": [
    {
     "name": "stderr",
     "output_type": "stream",
     "text": [
      "ibmqfactory.load_account:WARNING:2022-08-09 17:12:00,142: Credentials are already in use. The existing account in the session will be replaced.\n"
     ]
    }
   ],
   "source": [
    "provider = IBMQ.load_account()\n",
    "provider_real = IBMQ.get_provider(hub='ibm-q-kqc', group='kqc-summer-inter', project='base')"
   ]
  },
  {
   "cell_type": "code",
   "execution_count": 23,
   "metadata": {},
   "outputs": [],
   "source": [
    "algorithm_globals.massive = True"
   ]
  },
  {
   "cell_type": "markdown",
   "metadata": {},
   "source": [
    "백엔드 선택 부분 "
   ]
  },
  {
   "cell_type": "code",
   "execution_count": 24,
   "metadata": {},
   "outputs": [],
   "source": [
    "# 원본 QAOA 함수에서 backend 실행을 위해 분리해줌\n",
    "# Qasm 시뮬레이터/Real_device 사용시\n",
    "#backend = provider_real.get_backend(\"ibm_hanoi\")\n",
    "\n",
    "# 로컬 시뮬레이터 사용시\n",
    "backend =Aer.get_backend('qasm_simulator')"
   ]
  },
  {
   "cell_type": "markdown",
   "metadata": {},
   "source": [
    "SA 와 별개로 ga는 실험 데이터별로 사용할 매개변수의 조정이 별도로 없어서 4가지 종류의 input data로 부터\n",
    "바로 GA 알고리즘을 실행합니다.  \n",
    "아래는 생성한 data 4개의 딕셔너리 입니다."
   ]
  },
  {
   "cell_type": "code",
   "execution_count": 41,
   "metadata": {},
   "outputs": [],
   "source": [
    "qaoa_resutls_dict = {}\n",
    "\n",
    "for data_name, data in generated_data_dict.items():\n",
    "    x, y = pd.DataFrame(data.data_gen()[0]), data.data_gen()[1]\n",
    "    best_solution, result_data = QAOA(x, y, backend)\n",
    "    new_name = data_name + '_with_' + 'QAOA'\n",
    "    qaoa_resutls_dict[new_name] = qaoa_Results(best_solution, result_data)"
   ]
  },
  {
   "cell_type": "markdown",
   "metadata": {},
   "source": [
    "### 최종결과 확인 \n",
    "\n",
    "#### QAOA"
   ]
  },
  {
   "cell_type": "markdown",
   "metadata": {},
   "source": []
  },
  {
   "cell_type": "markdown",
   "metadata": {},
   "source": [
    "비고  \n",
    "4개의 데이터를 input_paramer.xlcs 에서 생성해서 데이터를 만듬  \n",
    "EXCEl 에서 수정을 통해 원하는데이터 개수만큼 생성 가능 "
   ]
  },
  {
   "cell_type": "code",
   "execution_count": 44,
   "metadata": {},
   "outputs": [
    {
     "data": {
      "text/plain": [
       "['data0_with_QAOA', 'data1_with_QAOA', 'data2_with_QAOA', 'data3_with_QAOA']"
      ]
     },
     "execution_count": 44,
     "metadata": {},
     "output_type": "execute_result"
    }
   ],
   "source": [
    "'''\n",
    "    ga_results_dict 라는 dictionary 에 input 데이터만큼 저장이 됩니다.\n",
    "    딕셔너리의 키 인 데이터 이름을 추출해 줍니다. \n",
    "'''\n",
    "qaoa_result_keys = list(qaoa_resutls_dict.keys())\n",
    "qaoa_result_keys"
   ]
  },
  {
   "cell_type": "code",
   "execution_count": 45,
   "metadata": {},
   "outputs": [
    {
     "name": "stdout",
     "output_type": "stream",
     "text": [
      "data1_with_QAOA\n"
     ]
    }
   ],
   "source": [
    "# EXAMPLE\n",
    "print(qaoa_result_keys[1])\n",
    "qaoa_reuslt_data_example = qaoa_resutls_dict[qaoa_result_keys[1]]\n",
    "#이제 데이터의 3가지 값을 아래와 같이 . 변수명 으로 접근해서 실험값을 추출할 수 있습니다."
   ]
  },
  {
   "cell_type": "markdown",
   "metadata": {},
   "source": [
    "##### 결과 출력 예시"
   ]
  },
  {
   "cell_type": "code",
   "execution_count": 46,
   "metadata": {},
   "outputs": [
    {
     "data": {
      "text/plain": [
       "[1.0, 1.0, 0.0, 1.0, 1.0, 1.0, 0.0, 1.0, 0.0, 0.0]"
      ]
     },
     "execution_count": 46,
     "metadata": {},
     "output_type": "execute_result"
    }
   ],
   "source": [
    "qaoa_reuslt_data_example.best_solution"
   ]
  },
  {
   "cell_type": "code",
   "execution_count": 51,
   "metadata": {},
   "outputs": [
    {
     "data": {
      "text/plain": [
       "[result_container(SSE=[0.3722836447914497, 0.21785471331293582, 0.18383684287387314, 0.1186038780384725, 0.005806018957529302, 0.0005424162894756002, 0.001385821607808646, 1.7119895396100482e-05, 0.0006434805415642675, 0.0006727812426415847], AIC=0    3.921127\n",
       " dtype: float64, BIC=0    643.043479\n",
       " dtype: float64, lst=0    689.404168\n",
       " dtype: float64),\n",
       " result_container(SSE=Index(['x2', 'x6', 'x8', 'x9'], dtype='object'), AIC=0    27.878726\n",
       " dtype: float64, BIC=0    1611.785861\n",
       " dtype: float64, lst=0    1632.858902\n",
       " dtype: float64),\n",
       " result_container(SSE=Index(['x0', 'x1', 'x3', 'x4', 'x5', 'x7'], dtype='object'), AIC=0    8.000243\n",
       " dtype: float64, BIC=0    991.58985\n",
       " dtype: float64, lst=0    1021.092107\n",
       " dtype: float64)]"
      ]
     },
     "execution_count": 51,
     "metadata": {},
     "output_type": "execute_result"
    }
   ],
   "source": [
    "qaoa_reuslt_data_example.result_log"
   ]
  },
  {
   "cell_type": "code",
   "execution_count": 50,
   "metadata": {},
   "outputs": [
    {
     "name": "stdout",
     "output_type": "stream",
     "text": [
      "0    689.404168\n",
      "dtype: float64\n",
      "SSE : [0.3722836447914497, 0.21785471331293582, 0.18383684287387314, 0.1186038780384725, 0.005806018957529302, 0.0005424162894756002, 0.001385821607808646, 1.7119895396100482e-05, 0.0006434805415642675, 0.0006727812426415847]\n",
      "AIC : 0    3.921127\n",
      "dtype: float64\n",
      "BIC : 0    643.043479\n",
      "dtype: float64\n"
     ]
    }
   ],
   "source": [
    "# 클래스 인스턴스로 출력했기 때문에 QAOA_algorithm.py 에 있는 클래스 method 출력함수 이용가능\n",
    "qaoa_reuslt_data_example.result_log[0].print_result()"
   ]
  },
  {
   "cell_type": "markdown",
   "metadata": {},
   "source": [
    "##### 결과출력 예시"
   ]
  },
  {
   "cell_type": "code",
   "execution_count": 53,
   "metadata": {},
   "outputs": [],
   "source": [
    "Tupled_df_KQC_data_parameter = list(KQC_data_parameter.itertuples(name=None))"
   ]
  },
  {
   "cell_type": "code",
   "execution_count": 58,
   "metadata": {},
   "outputs": [
    {
     "name": "stdout",
     "output_type": "stream",
     "text": [
      "data1 : \n",
      "   DATA 의 parameter\n",
      "      (0, 'data1', 500, 10, '[4,3,2,2]', 1, 1, 'independent')\n",
      "   QAOA의 Bestsolution\n",
      "      [1.0, 1.0, 0.0, 1.0, 1.0, 1.0, 0.0, 1.0, 0.0, 0.0]\n",
      "data2 : \n",
      "   DATA 의 parameter\n",
      "      (1, 'data2', 500, 10, '[4,3,2,2]', 2, 1, 'independent')\n",
      "   QAOA의 Bestsolution\n",
      "      [1.0, 1.0, 0.0, 1.0, 1.0, 1.0, 0.0, 1.0, 0.0, 0.0]\n",
      "data3 : \n",
      "   DATA 의 parameter\n",
      "      (2, 'data3', 500, 10, '[4,3,2,2]', 3, 1, 'independent')\n",
      "   QAOA의 Bestsolution\n",
      "      [1.0, 1.0, 0.0, 1.0, 1.0, 1.0, 1.0, 1.0, 0.0, 0.0]\n",
      "data4 : \n",
      "   DATA 의 parameter\n",
      "      (3, 'data4', 500, 10, '[4,3,2,2]', 4, 1, 'independent')\n",
      "   QAOA의 Bestsolution\n",
      "      [1.0, 1.0, 0.0, 1.0, 1.0, 1.0, 1.0, 1.0, 0.0, 0.0]\n"
     ]
    }
   ],
   "source": [
    "for i in range(len(Tupled_df_KQC_data_parameter)):\n",
    "    print('data'+str(i+1) + ' : ')\n",
    "    print('   '+'DATA 의 parameter')\n",
    "    print('      ' + str(Tupled_df_KQC_data_parameter[i]))\n",
    "    print('   '+'QAOA의 Bestsolution')\n",
    "    print('      ' + str(qaoa_resutls_dict[qaoa_result_keys[i]].best_solution))"
   ]
  }
 ],
 "metadata": {
  "kernelspec": {
   "display_name": "Python 3.10.5 64-bit",
   "language": "python",
   "name": "python3"
  },
  "language_info": {
   "codemirror_mode": {
    "name": "ipython",
    "version": 3
   },
   "file_extension": ".py",
   "mimetype": "text/x-python",
   "name": "python",
   "nbconvert_exporter": "python",
   "pygments_lexer": "ipython3",
   "version": "3.10.5"
  },
  "orig_nbformat": 4,
  "vscode": {
   "interpreter": {
    "hash": "e7666eb6031535d6e90b4b11b0b7a37060a652e5fd9029b2370c4f69b76902f5"
   }
  }
 },
 "nbformat": 4,
 "nbformat_minor": 2
}
