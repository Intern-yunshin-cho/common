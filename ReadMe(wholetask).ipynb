{
 "cells": [
  {
   "cell_type": "code",
   "execution_count": null,
   "metadata": {},
   "outputs": [],
   "source": [
    "import pandas as pd\n",
    "import numpy as np\n",
    "\n",
    "# input data 부분 필요 라이브러리\n",
    "import kqc_custom\n",
    "from dataclasses import dataclass, field, asdict, astuple\n",
    "from typing import List, ClassVar\n",
    "import ast  # 입력 문자 beta coef, integer 로 변환에 사용하는 부분\n",
    "\n",
    "# Simulated Annealing 필요 라이브러리\n",
    "from sa_basefunctions import get_aic, get_bic, get_mspe, get_bin, flip\n",
    "from sa_SimulatedAnnealing import SimulatedAnnealing\n",
    "\n",
    "# Genetic Algorithm 필요 라이브러리 "
   ]
  },
  {
   "cell_type": "markdown",
   "metadata": {},
   "source": [
    "## Data Generator 구현 부분\n",
    "\n",
    "*Data Generating Function 함수 설명*\n",
    "\n",
    "$y = X \\beta + \\epsilon$\n",
    "\n",
    "kqc_custom.generate_independent_sample(n_sample,n_features,beta_coef=[4,3,2,2],epsilon=4)  \n",
    "kqc_custom.generate_dependent_sample(n_sample,n_features,beta_coef=[4,3,2,2],epsilon=4,correlation_parameter=1)\n",
    "\n",
    "- n_samples : 데이터 샘플 수\n",
    "- n_features : 데이터 피쳐 개수\n",
    "- beta_coef : beta계수\n",
    "- epsilon : 오차의 표준편차 정도\n",
    "- correlation_parameter\n"
   ]
  },
  {
   "cell_type": "code",
   "execution_count": null,
   "metadata": {},
   "outputs": [],
   "source": [
    "# inout parameter 가져오기\n",
    "KQC_data_parameter = pd.read_excel('input_parameter.xlsx')"
   ]
  },
  {
   "cell_type": "markdown",
   "metadata": {},
   "source": [
    "Example of input data generator funvtion's parameter input from EXCEL (.xlcs file)\n",
    "\n",
    "    아래에 간단한 예시로 4개의 데이터의 경우를 예시로 들었습니다."
   ]
  },
  {
   "cell_type": "code",
   "execution_count": null,
   "metadata": {},
   "outputs": [],
   "source": [
    "KQC_data_parameter"
   ]
  },
  {
   "cell_type": "code",
   "execution_count": null,
   "metadata": {},
   "outputs": [],
   "source": [
    "def read_excel2tuple():\n",
    "    '''\n",
    "        row 별로 data를 슬라이싱 해주는 Tuple로 변환\n",
    "    '''\n",
    "    df = pd.read_excel('input_parameter.xlsx')\n",
    "    return list(df.itertuples(name=None))"
   ]
  },
  {
   "cell_type": "code",
   "execution_count": null,
   "metadata": {},
   "outputs": [],
   "source": [
    "Tupled_df_KQC_data_parameter = list(KQC_data_parameter.itertuples(name=None))"
   ]
  },
  {
   "cell_type": "code",
   "execution_count": null,
   "metadata": {},
   "outputs": [],
   "source": [
    "list(list(KQC_data_parameter.itertuples(name=None))[0])"
   ]
  },
  {
   "cell_type": "markdown",
   "metadata": {},
   "source": [
    "EXCEL 의 dataframee 의 pandas로 받아서, "
   ]
  },
  {
   "cell_type": "code",
   "execution_count": null,
   "metadata": {},
   "outputs": [],
   "source": [
    "from typing import ClassVar\n",
    "@dataclass\n",
    "class data_generator:\n",
    "    count_data : ClassVar[int] = 1  # 전치 처리위한 class variable\n",
    "\n",
    "    # KQC custom file // data generator function's parameter\n",
    "    n_samples : int                 # 데이터 샘플 수\n",
    "    n_features : int                # 데이터 피쳐 개수\n",
    "    beta_coef : float               # beta 계수\n",
    "    epsilon : float                 # 오차의 표준편차 정도\n",
    "    correlation_parameter : float   # 상관계수 ?\n",
    "\n",
    "    # kqc data generator dependent / inpependent 선택 부분 \n",
    "    is_independent : str            # is_independent\n",
    "    data_name : str                 # 지정 데이터명\n",
    "\n",
    "    def __post_init__(self):\n",
    "        data_generator.count_data += 1  # class 생성 data counter\n",
    "      \n",
    "    # parameter 입력 받기 \n",
    "    @classmethod\n",
    "    def create(cls): \n",
    "        data = cls() \n",
    "        return data\n",
    "    \n",
    "    @classmethod\n",
    "    def data_counter(cls):\n",
    "        return [ 'data' + str(i) for i in range(cls.count_data)]\n",
    "\n",
    "    #KQC_custom 의 data generator 로 부터 data 생성 class\n",
    "    def data_gen(self):\n",
    "        data_gened = []\n",
    "        if self.is_independent == 'dependent':\n",
    "            x, y = kqc_custom.generate_dependent_sample( self.n_samples,\n",
    "                                                  self.n_features,\n",
    "                                                  self.beta_coef,\n",
    "                                                  self.epsilon,\n",
    "                                                  self.correlation_parameter\n",
    "            )\n",
    "        else:\n",
    "            x, y = kqc_custom.generate_independent_sample( self.n_samples,\n",
    "                                                  self.n_features,\n",
    "                                                  self.beta_coef,\n",
    "                                                  self.epsilon,\n",
    "                                                  self.correlation_parameter\n",
    "            )\n",
    "        data_gened.append(x)\n",
    "        data_gened.append(y)\n",
    "        return data_gened\n",
    "# data_name : str \n",
    "# paeameter : List[float] = field(default_factory=list)"
   ]
  },
  {
   "cell_type": "code",
   "execution_count": null,
   "metadata": {},
   "outputs": [],
   "source": [
    "ast.literal_eval(list(list(KQC_data_parameter.itertuples(name=None))[0])[4])"
   ]
  },
  {
   "cell_type": "code",
   "execution_count": null,
   "metadata": {},
   "outputs": [],
   "source": [
    "# #새로운 data generator 함수 부분\n",
    "# from dataclasses import make_dataclass\n",
    "# make_dataclass(data_generator())"
   ]
  },
  {
   "cell_type": "code",
   "execution_count": null,
   "metadata": {},
   "outputs": [],
   "source": [
    "# class data generator 로 부터, 입력 데이터 리스트의 수 만큼 리스트 생성 \n",
    "def list_gen_from_class(df):\n",
    "    generated_data_list = []\n",
    "    Tupled_df_KQC_data_parameter = read_excel2tuple()\n",
    "    for i in range(len(Tupled_df_KQC_data_parameter)):\n",
    "        data_list_Row = list(list(df.itertuples(name=None))[i])\n",
    "        generated_data_list.append(data_generator(n_samples= data_list_Row[2],\n",
    "                                                n_features= data_list_Row[3],\n",
    "                                                beta_coef= ast.literal_eval(data_list_Row[4]),\n",
    "                                                epsilon= data_list_Row[5],\n",
    "                                                correlation_parameter= data_list_Row[6],\n",
    "                                                is_independent= data_list_Row[7],\n",
    "                                                data_name=data_list_Row[1]\n",
    "            )\n",
    "        )\n",
    "    return generated_data_list"
   ]
  },
  {
   "cell_type": "markdown",
   "metadata": {},
   "source": [
    "다음은 generated data list 의 형태를 보여주는 예시입니다.  \n",
    "\n",
    "아래의 예시와 같이 각 리스트에서 KQC_ independent / dependent data 의 생성되는  \n",
    "x , y 의 값이 N(excel input 데이터수) by 2 의 size 리스트 입니다.  "
   ]
  },
  {
   "cell_type": "code",
   "execution_count": null,
   "metadata": {},
   "outputs": [],
   "source": [
    "generated_data_list = list_gen_from_class(KQC_data_parameter)\n",
    "#generated_data 의 length --> 클래스 변수에서 선언횟수 카운터로 선언했으므로 \n",
    "# 임의의 첫번쨰 선언 instance 에서 클래스 매서드를 호출하면 조정없이 가능\n",
    "data_key = generated_data_list[0].data_counter()"
   ]
  },
  {
   "cell_type": "markdown",
   "metadata": {},
   "source": [
    "리스트와 동일하지만 검색에 유용하기 위해서, 데이터 명으로 검색을 하기 위해서 딕셔너리로 변환하는  부분을 작성해 보았습니다.  "
   ]
  },
  {
   "cell_type": "code",
   "execution_count": null,
   "metadata": {},
   "outputs": [],
   "source": [
    "generated_data_dict = {}\n",
    "for i in range(len(generated_data_list)):\n",
    "    '''\n",
    "        클래스에서 선언 인스턴스 개수로 자동 카운트 되는 이름명은 윗 코드\n",
    "        dataframe 에서 선언한 '지정 데이터명'을 사용한다면 아래 코드를 사용하면 됩니다.\n",
    "    '''\n",
    "    generated_data_dict[data_key[i]] = generated_data_list[i]\n",
    "    # list(KQC_data_parameter.loc[:,'지정 데이터명'])[i] = generated_data_list[i]"
   ]
  },
  {
   "cell_type": "code",
   "execution_count": null,
   "metadata": {},
   "outputs": [],
   "source": [
    "generated_data_dict['data3']"
   ]
  },
  {
   "cell_type": "code",
   "execution_count": null,
   "metadata": {},
   "outputs": [],
   "source": [
    "# 클래스 구조를 가짐으로서 data 이름을 검색한것으로 부터 parameter를 쉽게 확인할 수 있습니다.\n",
    "generated_data_dict['data3'].__dict__"
   ]
  },
  {
   "cell_type": "code",
   "execution_count": null,
   "metadata": {},
   "outputs": [],
   "source": [
    "# 저장된 클래스 인스턴스로 부터 데이터 생성하기 \n",
    "generated_data_dict['data3'].data_gen()"
   ]
  },
  {
   "cell_type": "markdown",
   "metadata": {},
   "source": [
    "## 알고리즘 적용 부분\n",
    "\n",
    "### SA"
   ]
  },
  {
   "cell_type": "code",
   "execution_count": null,
   "metadata": {},
   "outputs": [],
   "source": [
    "from sa_SimulatedAnnealing import SimulatedAnnealing as SA"
   ]
  },
  {
   "cell_type": "code",
   "execution_count": null,
   "metadata": {},
   "outputs": [],
   "source": [
    "SA_input_parameter = pd.read_excel('sa_input_parameter.xlsx')\n",
    "SA_input_parameter"
   ]
  },
  {
   "cell_type": "code",
   "execution_count": null,
   "metadata": {},
   "outputs": [],
   "source": [
    "# SA input parameter 부분 \n",
    "from sa_input_parameter_wrap import sa_read_excel2tuple, sa_parameter_wrap, sa_list_gen_from_class\n",
    "from sa_results import sa_Results"
   ]
  },
  {
   "cell_type": "markdown",
   "metadata": {},
   "source": [
    "다시 돌아와서 우리가 생성한 데이터는 아래이고 여기서 input data 에따른 data 이름값과  \n",
    "이제 새로 생성한 sa_input_data 의 부분의 labeling 을 진행해줘야 됩니다. \n",
    "\n",
    "example -- > data 1 로 부터 sa_input_parameter data bla bla  \n",
    "\n",
    "idea 1 : 각각의 데이터별로 excel 파일 그리고 sa_input_parameter 별로 sheet 만들기 \n",
    "\n",
    "idea 2 : 그냥 폴더? --> 따로 os 생성자로 폴더 지정해 저장해 줄지 \n",
    "\n",
    "naming은 'input data name ' + 'with' + 'sa_parameter_select' .dat로?"
   ]
  },
  {
   "cell_type": "code",
   "execution_count": null,
   "metadata": {},
   "outputs": [],
   "source": [
    "# 출력을 저장할 데이터 클래스 생성 \n",
    "@dataclass\n",
    "class Results:\n",
    "    #사용환경에 따른 수정요\n",
    "    # default_information =  'N = 500, p = 20, beta_coef=[4, 3, 2, 2], epsilon =, covariance_parameter = 5, cooling_schedule = lundymee'#.format(eps)\n",
    "    value : List[float] = field(default_factory=list)\n",
    "    result : List[float] = field(default_factory=list)\n",
    "    log : List[int] = field(default_factory=list)\n",
    "    \n",
    "    # pre-variable\n",
    "    # def __post_init__(self):\n",
    "        # self.information = self.default_information \n",
    "    # dict allocation\n",
    "    def __getitem__(self,key):\n",
    "        return getattr(self, key)\n",
    "    def __setitem__(self,key,value):\n",
    "        return setattr(self, key, value)\n",
    "\n",
    "# class instance generator\n",
    "def Results_gen(value, result, log):\n",
    "    return Results(value, result, log)"
   ]
  },
  {
   "cell_type": "code",
   "execution_count": null,
   "metadata": {},
   "outputs": [],
   "source": [
    "generated_sa_parameter_wrap_list = sa_list_gen_from_class(SA_input_parameter)"
   ]
  },
  {
   "cell_type": "code",
   "execution_count": null,
   "metadata": {},
   "outputs": [],
   "source": [
    "sa_result_dict = {}\n",
    "# 각 SA _INPUT_PATAMETER 의 FOR 문\n",
    "for sa_parameter_data in generated_sa_parameter_wrap_list:\n",
    "  #각 input 별 generated data set \n",
    "  for data_name, data in list(generated_data_dict.items()) :\n",
    "    x, y = pd.DataFrame(data.data_gen()[0]), data.data_gen()[1]\n",
    "    simulatedannealing = SA(x,y,\n",
    "                            sa_parameter_data.lst,\n",
    "                            sa_parameter_data.k,\n",
    "                            sa_parameter_data.alpha,\n",
    "                            sa_parameter_data.tau,\n",
    "                            sa_parameter_data.objective\n",
    "    )\n",
    "    # data wrapper의 value로 부터 각각의 result 생성하기\n",
    "    value, result, log = simulatedannealing.lundymee()\n",
    "    new_name = data_name + '_with_' + sa_parameter_data.sa_input_parameter_name\n",
    "    sa_result_dict[new_name] = sa_Results(value, result, log)"
   ]
  },
  {
   "cell_type": "markdown",
   "metadata": {},
   "source": [
    "아래의 코드를 출력하면 최종결과를 얻을 수 있습니다.\n",
    "\n",
    "* input_parameter 엑셀파일 에서 입력하는 파라미터별  KQC data generator 의 실험 데이트 set data1 ~ data4\n",
    "* sa_input_parameter 엑셀파일에서 입력하는 파라미터별 sa_SimulatingAnnealing.py 의 변수별 wrap 설정 부분  sa_parameter1 ~ sa_parameter4\n",
    "\n",
    "총 16개의 실험결과가 sa_result_dict 의 딕셔너리에 저장된것을 확인할 수 있습니다.  \n",
    "데이터의 호출방법은 별도로 pickle로 저장할텐데요, 지금 주피터 노트북의 iPython 환경에서는 모든 value를 keep 하고 있기 때문에  \n",
    "저장된 sa_result_dict을 바로 호출가능합니다.\n",
    "\n",
    "1. 딕셔너리의 key (데이터 이름)\n",
    "2. 이름을 통해서 각 data 별 저장된 Results class 에 접근 \n",
    "3. "
   ]
  },
  {
   "cell_type": "code",
   "execution_count": null,
   "metadata": {},
   "outputs": [],
   "source": [
    "print(sa_result_dict.keys())\n",
    "key_list = list(sa_result_dict.keys())"
   ]
  },
  {
   "cell_type": "code",
   "execution_count": null,
   "metadata": {},
   "outputs": [],
   "source": [
    "# 임의의 key_list[4], 'data0_with_sa_parametter2' 의 결과\n",
    "sa_results = sa_result_dict[key_list[4]]\n",
    "sa_results.result"
   ]
  },
  {
   "cell_type": "code",
   "execution_count": null,
   "metadata": {},
   "outputs": [],
   "source": [
    "sa_results.log"
   ]
  },
  {
   "cell_type": "code",
   "execution_count": null,
   "metadata": {},
   "outputs": [],
   "source": [
    "sa_results.value"
   ]
  },
  {
   "cell_type": "markdown",
   "metadata": {},
   "source": [
    "### GA\n",
    "\n"
   ]
  },
  {
   "cell_type": "code",
   "execution_count": 69,
   "metadata": {},
   "outputs": [],
   "source": [
    "from ga_algorithm import GA\n",
    "from ga_results import ga_Results_gen, ga_Results"
   ]
  },
  {
   "cell_type": "markdown",
   "metadata": {},
   "source": [
    "SA 와 별개로 ga는 실험 데이터별로 사용할 매개변수의 조정이 별도로 없어서 4가지 종류의 input data로 부터\n",
    "바로 GA 알고리즘을 실행합니다.  \n",
    "아래는 생성한 data 4개의 딕셔너리 입니다."
   ]
  },
  {
   "cell_type": "code",
   "execution_count": 72,
   "metadata": {},
   "outputs": [
    {
     "name": "stdout",
     "output_type": "stream",
     "text": [
      "{'data0': data_generator(n_samples=500, n_features=10, beta_coef=[4, 3, 2, 2], epsilon=1, correlation_parameter=1, is_independent='independent', data_name='data1'), 'data1': data_generator(n_samples=500, n_features=10, beta_coef=[4, 3, 2, 2], epsilon=2, correlation_parameter=1, is_independent='independent', data_name='data2'), 'data2': data_generator(n_samples=500, n_features=10, beta_coef=[4, 3, 2, 2], epsilon=3, correlation_parameter=1, is_independent='independent', data_name='data3'), 'data3': data_generator(n_samples=500, n_features=10, beta_coef=[4, 3, 2, 2], epsilon=4, correlation_parameter=1, is_independent='independent', data_name='data4')}\n",
      "            0         1         2         3         4         5         6  \\\n",
      "0    1.624345 -0.611756 -0.528172 -1.072969  0.865408 -2.301539  1.744812   \n",
      "1    1.462108 -2.060141 -0.322417 -0.384054  1.133769 -1.099891 -0.172428   \n",
      "2   -1.100619  1.144724  0.901591  0.502494  0.900856 -0.683728 -0.122890   \n",
      "3   -0.691661 -0.396754 -0.687173 -0.845206 -0.671246 -0.012665 -1.117310   \n",
      "4   -0.191836 -0.887629 -0.747158  1.692455  0.050808 -0.636996  0.190915   \n",
      "..        ...       ...       ...       ...       ...       ...       ...   \n",
      "495 -0.432381 -0.035763  1.512820 -0.775995 -0.271769  1.019646 -0.435244   \n",
      "496 -2.418973 -0.716820  0.575042  0.480736  0.370113 -0.162448 -1.302508   \n",
      "497 -2.015168 -0.996905 -1.034251  0.879521  0.712505  1.772187  1.246123   \n",
      "498 -1.592936  0.715686  0.924852 -0.366147  1.521629  1.297955 -0.253514   \n",
      "499 -0.544415 -0.063071  0.893819  1.837916  0.584679  1.604546  0.566613   \n",
      "\n",
      "            7         8         9  \n",
      "0   -0.761207  0.319039 -0.249370  \n",
      "1   -0.877858  0.042214  0.582815  \n",
      "2   -0.935769 -0.267888  0.530355  \n",
      "3    0.234416  1.659802  0.742044  \n",
      "4    2.100255  0.120159  0.617203  \n",
      "..        ...       ...       ...  \n",
      "495 -1.015457  0.185910  0.563153  \n",
      "496 -0.192115  1.660739  0.868712  \n",
      "497 -1.163626  0.061574 -0.576460  \n",
      "498 -0.382463  0.973071  1.069714  \n",
      "499 -0.775988  1.084889  2.241989  \n",
      "\n",
      "[500 rows x 10 columns]\n",
      "[-3.89679102e-01  5.12846293e-01 -4.17717998e-01 -8.47113551e+00\n",
      " -2.92494070e-01  3.61428276e-02  1.71897036e+00 -6.22637886e+00\n",
      "  1.91498129e+00  4.70971827e+00  4.61389385e+00 -7.65519121e+00\n",
      "  4.29300189e+00 -5.50604873e+00 -9.51487547e-01 -2.69294812e+00\n",
      " -1.30259870e+00  6.31180114e+00 -4.75763449e-01  1.18992501e+01\n",
      "  3.55788866e+00 -3.48116923e+00  1.07787192e+01  4.35446066e+00\n",
      " -6.96772015e+00 -2.52433099e+00 -2.34582770e+00  9.11562747e+00\n",
      " -2.64747459e+00 -1.05873881e-01 -1.16492945e+00  1.01304364e+01\n",
      " -5.80478246e+00  2.18276415e+00  5.31546507e+00  7.20496731e+00\n",
      " -5.55063730e+00 -2.05924326e+00 -1.86788823e+00  1.41300036e+00\n",
      " -1.21922194e+00  8.15032664e+00  1.52732103e+00  1.00053857e+01\n",
      " -2.01511392e-01  3.57739674e-01 -2.63323368e+00  5.51902649e+00\n",
      " -2.25659394e+00  2.15817148e+00 -9.64981621e+00  4.73951119e+00\n",
      "  6.51448263e+00  2.83840227e+00 -5.95378352e+00 -5.63708535e+00\n",
      "  8.13821256e+00  5.06479523e+00 -4.05476882e+00  3.46418566e+00\n",
      " -3.79484246e-02  4.02553380e+00 -3.73030443e+00 -2.22415017e+00\n",
      "  8.96789591e+00  1.30208982e+01 -1.02423885e+01 -4.70790065e+00\n",
      "  3.84319453e+00 -3.88262756e+00  4.03080041e+00 -1.22824052e+01\n",
      " -7.22855194e+00  1.21925918e+01  3.50427239e+00  9.50148867e+00\n",
      "  4.91996451e+00  1.96268021e+00 -7.19782715e-01 -1.03900600e+01\n",
      " -7.25118693e-01 -8.42360371e+00  6.67319415e-01  1.46415179e+00\n",
      "  4.01299232e+00  2.85235083e+00 -7.64774906e+00  6.62776970e+00\n",
      "  3.09663692e+00 -4.52306220e+00  9.59210403e-01  4.70001168e+00\n",
      "  7.25669106e+00  5.72891202e+00  9.88465489e+00  1.46530729e+00\n",
      " -1.33517059e+00 -7.04502011e+00  2.91457407e+00  4.28008452e+00\n",
      " -2.08087555e+00 -4.76950990e+00 -8.99379975e-01  2.37893786e+00\n",
      " -4.49112626e+00 -1.00462176e+01 -7.72760093e-01  5.10682483e-01\n",
      "  5.57771246e+00  7.73452970e+00  1.79257011e+00  1.82756114e+00\n",
      "  1.08393183e+00 -2.41509533e+00 -1.18936625e+00  1.09941893e+00\n",
      " -8.07911392e+00  5.94174481e+00 -4.89561242e+00  9.05827580e-01\n",
      " -6.48565357e-01 -6.72617813e-01  5.85485929e+00  8.97256589e+00\n",
      " -9.01392297e-01 -4.72591540e+00  4.29953632e+00 -5.09573440e+00\n",
      "  6.25688719e-01 -1.99909567e-01  2.62552105e+00 -7.36692949e-01\n",
      "  7.28209647e+00  1.92309425e+00  5.88970754e+00  2.67268121e+00\n",
      "  4.91771150e+00 -1.37131225e+00 -4.48755091e+00 -5.85926735e+00\n",
      "  6.88122315e+00  9.83253929e-01 -1.49727686e+00 -4.17920673e+00\n",
      "  8.42539261e+00  2.37301337e+00 -1.02407293e+01  3.27737273e+00\n",
      "  3.55950734e+00 -4.89814660e+00  4.76303161e+00 -1.19850411e+00\n",
      " -1.41284817e-01 -1.11214183e+01  1.10570101e+00 -8.48638077e+00\n",
      "  2.44179958e+00 -3.12070676e+00 -1.29407716e+00 -7.56585159e+00\n",
      " -5.47838650e-01 -5.98233060e+00 -6.85897276e+00  4.24542360e+00\n",
      "  8.64173801e-02 -1.00213771e+01 -2.39147795e+00 -7.58515777e+00\n",
      "  4.88012629e-01  4.57839281e+00 -5.82067125e+00  1.25679466e+00\n",
      " -6.48988794e+00  5.92380865e+00  4.72629405e+00 -3.47951886e+00\n",
      "  4.66037739e+00 -4.49260502e+00  1.01486756e+01  3.30118235e+00\n",
      " -2.74648540e+00  3.98387537e+00 -2.75388606e-01 -2.01909630e+00\n",
      "  1.30585384e+00 -3.30806101e+00  1.23981887e+01 -8.25632286e+00\n",
      "  2.28641390e+00  3.62263874e-01 -2.82147774e+00  3.65111533e-01\n",
      "  9.02059175e+00  9.64962930e+00  8.10719720e-02  2.50904376e+00\n",
      " -1.24918025e+01 -4.09200313e+00  1.47105617e+01  1.13469691e-01\n",
      "  2.23302911e-01  4.42201457e+00 -1.35779602e+01  1.63534770e+00\n",
      "  1.18007622e+00 -5.59088003e+00 -2.86877128e+00  8.44154907e+00\n",
      " -1.73870991e+00 -2.16439517e+00  1.80391892e+00  2.30377525e+00\n",
      " -8.91908595e+00  5.38161428e+00 -6.90115133e+00 -9.50899719e+00\n",
      "  3.33520176e+00  3.54004638e+00  3.49416128e+00  2.49485671e+00\n",
      " -2.47203623e+00  5.26521663e+00 -6.55989181e+00 -7.71278203e+00\n",
      "  2.07045612e-01  7.15455724e+00  2.03336261e+00  2.14113349e-01\n",
      "  2.31525182e+00 -6.32308326e+00 -7.74941474e+00 -3.33093867e+00\n",
      " -1.01414780e+00  1.19231724e-01 -1.39376817e+01  3.10985747e+00\n",
      " -7.12558897e-01 -1.13880805e+00  5.37644281e+00  1.72359915e+00\n",
      "  3.96016120e+00  5.65279376e+00  2.78103011e+00  9.39272132e-01\n",
      "  5.12171616e+00 -4.03160049e-01 -1.44167170e+01  1.05664127e+01\n",
      " -1.64881744e+00 -5.10871525e+00  5.89623166e-02 -6.33198407e+00\n",
      " -4.67939643e+00 -4.13744511e+00  9.93480647e+00  5.24086796e+00\n",
      "  1.22014306e+00 -1.70216082e+00 -1.16908598e+01  2.43374056e+00\n",
      "  6.05950595e+00 -2.50124677e+00  7.79456391e+00  9.10597206e-01\n",
      "  5.50476347e+00  2.81406734e+00 -3.34209515e-03  4.95634606e+00\n",
      " -8.36460761e+00 -3.62302223e+00 -6.93953912e+00 -5.08021326e+00\n",
      "  2.17477784e+00 -1.50207315e+00 -2.29800518e+00  9.32793464e+00\n",
      "  6.29798290e+00  8.67637764e+00 -4.48767248e+00 -2.29840757e+00\n",
      " -3.90560647e+00  1.07701412e+00  1.65392302e+01  4.78931771e+00\n",
      " -6.47188759e-01 -6.66913486e+00 -2.59553793e+00 -4.12529461e+00\n",
      "  9.41395213e+00 -5.85898028e+00  9.11680096e-01 -1.02541577e+01\n",
      " -7.35853609e+00  5.45692415e+00 -3.80477866e+00 -4.81752802e+00\n",
      " -2.51205608e+00  8.90833051e+00 -7.19601293e+00  9.21113497e+00\n",
      "  3.44922080e+00  9.60919646e+00  1.20978110e+01  6.91433854e+00\n",
      "  1.42128488e+00 -6.35291675e+00  9.20595214e+00  9.97387674e+00\n",
      "  5.14097407e+00  6.15099770e+00 -9.67767869e-01  1.37482013e+01\n",
      "  5.56694203e+00 -4.16760423e+00  2.52790761e-01  5.85924034e-02\n",
      "  1.08137147e+01  1.20510061e+01  2.39303649e+00 -5.84529244e+00\n",
      "  1.02453445e+00  4.85330277e-02 -7.70733701e+00 -1.49733437e+00\n",
      " -1.11671964e+00 -8.85700469e+00  3.63151514e+00 -3.58114924e-02\n",
      " -4.00107712e+00 -1.28355302e+01 -1.13310125e+00 -1.78030308e+00\n",
      " -1.36433418e+01  9.32903999e+00 -3.93710808e-01  9.30683928e+00\n",
      "  3.73091609e+00 -1.15806771e+00 -7.76888559e+00 -5.17252892e+00\n",
      " -7.21243044e+00 -5.47497486e-01  7.19552949e+00 -2.13453022e-01\n",
      " -5.51222693e+00  4.45817151e+00 -7.87644783e+00 -1.21508794e+00\n",
      "  3.41541493e+00 -3.94639058e+00 -5.90997951e+00 -7.57552459e+00\n",
      " -7.23321483e+00 -1.19987041e+00 -6.44433471e+00  1.69185544e+00\n",
      " -1.03614987e+00 -7.69093220e+00 -1.45905057e+01 -3.74147947e+00\n",
      "  3.22087796e+00 -4.53416955e+00 -4.59099180e+00 -2.16724630e+00\n",
      " -2.05952726e+00 -1.18805527e+01  5.99849765e+00 -2.90430689e+00\n",
      "  5.00272075e+00 -3.14688697e+00  3.60536588e+00  4.70031230e+00\n",
      " -2.43971021e+00  1.43147872e+00  1.80621090e+00 -3.49427404e+00\n",
      "  1.85587487e+00 -1.88975318e+00 -2.55339153e+00 -2.79189779e+00\n",
      "  5.73611826e-01  1.13206867e+00 -3.78747380e+00  1.33545404e+01\n",
      " -2.69219585e+00 -2.04692306e+00 -6.21700128e+00 -1.95237106e+00\n",
      " -2.36028218e+00  9.00207037e+00 -8.76474903e-01  5.38337400e+00\n",
      " -2.84731655e+00  5.50926336e+00  1.08079691e+01  9.69403283e+00\n",
      " -7.97594149e-01 -6.79924107e-01  6.80040642e+00 -4.04268463e+00\n",
      "  2.99112859e+00  8.30304976e+00 -2.47606143e+00 -7.47495388e+00\n",
      "  2.72753961e-01 -6.38299556e+00  2.10307125e+00  4.84970909e+00\n",
      " -6.24580675e+00 -3.92609999e+00 -1.64708399e+01  7.64236605e+00\n",
      " -1.66307462e+00  2.34131362e+00  8.62762168e-01  7.25068176e+00\n",
      " -4.01728319e+00 -6.14417394e+00  7.82746232e+00 -6.62178975e+00\n",
      " -3.92565575e+00 -5.31936787e-01  8.22578980e+00  1.25252402e+01\n",
      "  4.82984583e+00 -2.39967600e+00  4.09968556e+00 -6.19484627e+00\n",
      "  5.94242099e+00  7.82848919e+00  5.40617187e-01  1.08242033e+01\n",
      " -9.73974004e+00 -3.63209481e+00  4.50579567e+00 -4.97690407e+00\n",
      " -1.66821390e+00  2.42397385e-01  1.57577382e+00 -2.51737326e+00\n",
      "  3.45567586e-01 -5.15392939e+00  4.57246951e-01  4.39851723e+00\n",
      " -4.20955283e+00  1.16699673e+00  1.26431469e+00  1.15996082e+01\n",
      "  1.19298292e+00  9.40467519e+00 -1.07073909e+00 -4.55767504e+00\n",
      "  2.03818067e+00  1.62335660e+01 -1.07932089e+00 -2.60763202e+00\n",
      " -2.02093630e+00  1.99562586e+00  3.07608903e+00  2.55665652e+00\n",
      "  1.12297768e+01 -7.35826472e+00 -5.31235838e+00  5.08325979e-01\n",
      "  2.31076956e+00  3.33730791e+00 -1.04327889e+01 -5.89698989e-01\n",
      "  1.07843499e+01  9.28398429e+00  2.47544537e+00  4.68181111e+00\n",
      "  8.17177414e+00  3.08948947e+00  3.76373194e+00 -3.82832153e+00\n",
      "  1.52824285e+01 -8.32693882e+00 -3.89166195e+00 -2.97762884e+00\n",
      " -3.65793456e+00  3.98287070e+00  2.09217997e+00 -4.32529531e+00\n",
      " -8.74637520e+00  8.54821054e+00  8.79945556e+00  6.66135259e+00\n",
      " -1.70215572e+00 -5.01533047e+00  1.24559582e+00 -3.94682397e-02\n",
      "  3.19648118e+00 -7.96717291e+00 -1.26244898e+01 -1.17718673e+00\n",
      " -1.03825087e+01 -1.32210778e+01 -4.07808040e+00  1.37536812e+00]\n"
     ]
    }
   ],
   "source": [
    "print(generated_data_dict)\n",
    "len(generated_data_dict.keys())\n",
    "\n",
    "a,b = list(generated_data_dict.items())[1]\n",
    "x = pd.DataFrame(b.data_gen()[0])\n",
    "y = b.data_gen()[1]\n",
    "\n",
    "print(x)\n",
    "print(y)\n",
    "# GA(x, y)"
   ]
  },
  {
   "cell_type": "code",
   "execution_count": 65,
   "metadata": {},
   "outputs": [
    {
     "ename": "ValueError",
     "evalue": "Must pass 2-d input. shape=(30, 20, 10)",
     "output_type": "error",
     "traceback": [
      "\u001b[1;31m---------------------------------------------------------------------------\u001b[0m",
      "\u001b[1;31mValueError\u001b[0m                                Traceback (most recent call last)",
      "\u001b[1;32mc:\\Users\\815ys\\Documents\\KQC\\KQC_office\\Variable_Selection\\variable_selection_push\\common\\ReadMe(wholetask).ipynb 셀 38\u001b[0m in \u001b[0;36m<cell line: 3>\u001b[1;34m()\u001b[0m\n\u001b[0;32m      <a href='vscode-notebook-cell:/c%3A/Users/815ys/Documents/KQC/KQC_office/Variable_Selection/variable_selection_push/common/ReadMe%28wholetask%29.ipynb#X52sZmlsZQ%3D%3D?line=2'>3</a>\u001b[0m \u001b[39mfor\u001b[39;00m data_name, data \u001b[39min\u001b[39;00m generated_data_dict\u001b[39m.\u001b[39mitems():\n\u001b[0;32m      <a href='vscode-notebook-cell:/c%3A/Users/815ys/Documents/KQC/KQC_office/Variable_Selection/variable_selection_push/common/ReadMe%28wholetask%29.ipynb#X52sZmlsZQ%3D%3D?line=3'>4</a>\u001b[0m     x, y \u001b[39m=\u001b[39m pd\u001b[39m.\u001b[39mDataFrame(data\u001b[39m.\u001b[39mdata_gen()[\u001b[39m0\u001b[39m]), data\u001b[39m.\u001b[39mdata_gen()[\u001b[39m1\u001b[39m]\n\u001b[1;32m----> <a href='vscode-notebook-cell:/c%3A/Users/815ys/Documents/KQC/KQC_office/Variable_Selection/variable_selection_push/common/ReadMe%28wholetask%29.ipynb#X52sZmlsZQ%3D%3D?line=4'>5</a>\u001b[0m     ga_best_score, ga_best_solution, ga_result_log \u001b[39m=\u001b[39m GA(x,y)\n\u001b[0;32m      <a href='vscode-notebook-cell:/c%3A/Users/815ys/Documents/KQC/KQC_office/Variable_Selection/variable_selection_push/common/ReadMe%28wholetask%29.ipynb#X52sZmlsZQ%3D%3D?line=5'>6</a>\u001b[0m     new_name \u001b[39m=\u001b[39m data_name \u001b[39m+\u001b[39m \u001b[39m'\u001b[39m\u001b[39m_with_\u001b[39m\u001b[39m'\u001b[39m \u001b[39m+\u001b[39m \u001b[39m'\u001b[39m\u001b[39mGA\u001b[39m\u001b[39m'\u001b[39m\n\u001b[0;32m      <a href='vscode-notebook-cell:/c%3A/Users/815ys/Documents/KQC/KQC_office/Variable_Selection/variable_selection_push/common/ReadMe%28wholetask%29.ipynb#X52sZmlsZQ%3D%3D?line=6'>7</a>\u001b[0m     ga_resutls_dict[new_name] \u001b[39m=\u001b[39m ga_Results(ga_best_score, ga_best_solution, ga_result_log)\n",
      "File \u001b[1;32mc:\\Users\\815ys\\Documents\\KQC\\KQC_office\\Variable_Selection\\variable_selection_push\\common\\ga_algorithm.py:134\u001b[0m, in \u001b[0;36mGA\u001b[1;34m(X_data, y_data, n_gen, n_sol, n_par, mutation_sol_p, mutation_gene_p)\u001b[0m\n\u001b[0;32m    121\u001b[0m     current_population \u001b[39m=\u001b[39m np\u001b[39m.\u001b[39mvstack([new_population, childs])\n\u001b[0;32m    123\u001b[0m \u001b[39m# print(\"best_score:\", best_score, \"best_solution: \", best_solution)\u001b[39;00m\n\u001b[0;32m    124\u001b[0m \n\u001b[0;32m    125\u001b[0m \u001b[39m# 그래프 출력하기\u001b[39;00m\n\u001b[1;32m   (...)\u001b[0m\n\u001b[0;32m    131\u001b[0m \u001b[39m# plt.legend(['solution_mean', 'best_solution'])\u001b[39;00m\n\u001b[0;32m    132\u001b[0m \u001b[39m# plt.show()\u001b[39;00m\n\u001b[1;32m--> 134\u001b[0m \u001b[39mreturn\u001b[39;00m best_score, pd\u001b[39m.\u001b[39mDataFrame(best_solution), pd\u001b[39m.\u001b[39;49mDataFrame(result_log)\n",
      "File \u001b[1;32mc:\\Users\\815ys\\AppData\\Local\\Programs\\Python\\Python310\\lib\\site-packages\\pandas\\core\\frame.py:737\u001b[0m, in \u001b[0;36mDataFrame.__init__\u001b[1;34m(self, data, index, columns, dtype, copy)\u001b[0m\n\u001b[0;32m    729\u001b[0m         mgr \u001b[39m=\u001b[39m arrays_to_mgr(\n\u001b[0;32m    730\u001b[0m             arrays,\n\u001b[0;32m    731\u001b[0m             columns,\n\u001b[1;32m   (...)\u001b[0m\n\u001b[0;32m    734\u001b[0m             typ\u001b[39m=\u001b[39mmanager,\n\u001b[0;32m    735\u001b[0m         )\n\u001b[0;32m    736\u001b[0m     \u001b[39melse\u001b[39;00m:\n\u001b[1;32m--> 737\u001b[0m         mgr \u001b[39m=\u001b[39m ndarray_to_mgr(\n\u001b[0;32m    738\u001b[0m             data,\n\u001b[0;32m    739\u001b[0m             index,\n\u001b[0;32m    740\u001b[0m             columns,\n\u001b[0;32m    741\u001b[0m             dtype\u001b[39m=\u001b[39;49mdtype,\n\u001b[0;32m    742\u001b[0m             copy\u001b[39m=\u001b[39;49mcopy,\n\u001b[0;32m    743\u001b[0m             typ\u001b[39m=\u001b[39;49mmanager,\n\u001b[0;32m    744\u001b[0m         )\n\u001b[0;32m    745\u001b[0m \u001b[39melse\u001b[39;00m:\n\u001b[0;32m    746\u001b[0m     mgr \u001b[39m=\u001b[39m dict_to_mgr(\n\u001b[0;32m    747\u001b[0m         {},\n\u001b[0;32m    748\u001b[0m         index,\n\u001b[1;32m   (...)\u001b[0m\n\u001b[0;32m    751\u001b[0m         typ\u001b[39m=\u001b[39mmanager,\n\u001b[0;32m    752\u001b[0m     )\n",
      "File \u001b[1;32mc:\\Users\\815ys\\AppData\\Local\\Programs\\Python\\Python310\\lib\\site-packages\\pandas\\core\\internals\\construction.py:331\u001b[0m, in \u001b[0;36mndarray_to_mgr\u001b[1;34m(values, index, columns, dtype, copy, typ)\u001b[0m\n\u001b[0;32m    326\u001b[0m         values \u001b[39m=\u001b[39m values\u001b[39m.\u001b[39mreshape(\u001b[39m-\u001b[39m\u001b[39m1\u001b[39m, \u001b[39m1\u001b[39m)\n\u001b[0;32m    328\u001b[0m \u001b[39melse\u001b[39;00m:\n\u001b[0;32m    329\u001b[0m     \u001b[39m# by definition an array here\u001b[39;00m\n\u001b[0;32m    330\u001b[0m     \u001b[39m# the dtypes will be coerced to a single dtype\u001b[39;00m\n\u001b[1;32m--> 331\u001b[0m     values \u001b[39m=\u001b[39m _prep_ndarray(values, copy\u001b[39m=\u001b[39;49mcopy_on_sanitize)\n\u001b[0;32m    333\u001b[0m \u001b[39mif\u001b[39;00m dtype \u001b[39mis\u001b[39;00m \u001b[39mnot\u001b[39;00m \u001b[39mNone\u001b[39;00m \u001b[39mand\u001b[39;00m \u001b[39mnot\u001b[39;00m is_dtype_equal(values\u001b[39m.\u001b[39mdtype, dtype):\n\u001b[0;32m    334\u001b[0m     shape \u001b[39m=\u001b[39m values\u001b[39m.\u001b[39mshape\n",
      "File \u001b[1;32mc:\\Users\\815ys\\AppData\\Local\\Programs\\Python\\Python310\\lib\\site-packages\\pandas\\core\\internals\\construction.py:591\u001b[0m, in \u001b[0;36m_prep_ndarray\u001b[1;34m(values, copy)\u001b[0m\n\u001b[0;32m    589\u001b[0m     values \u001b[39m=\u001b[39m values\u001b[39m.\u001b[39mreshape((values\u001b[39m.\u001b[39mshape[\u001b[39m0\u001b[39m], \u001b[39m1\u001b[39m))\n\u001b[0;32m    590\u001b[0m \u001b[39melif\u001b[39;00m values\u001b[39m.\u001b[39mndim \u001b[39m!=\u001b[39m \u001b[39m2\u001b[39m:\n\u001b[1;32m--> 591\u001b[0m     \u001b[39mraise\u001b[39;00m \u001b[39mValueError\u001b[39;00m(\u001b[39mf\u001b[39m\u001b[39m\"\u001b[39m\u001b[39mMust pass 2-d input. shape=\u001b[39m\u001b[39m{\u001b[39;00mvalues\u001b[39m.\u001b[39mshape\u001b[39m}\u001b[39;00m\u001b[39m\"\u001b[39m)\n\u001b[0;32m    593\u001b[0m \u001b[39mreturn\u001b[39;00m values\n",
      "\u001b[1;31mValueError\u001b[0m: Must pass 2-d input. shape=(30, 20, 10)"
     ]
    }
   ],
   "source": [
    "ga_resutls_dict = {}\n",
    "\n",
    "for data_name, data in generated_data_dict.items():\n",
    "    x, y = pd.DataFrame(data.data_gen()[0]), data.data_gen()[1]\n",
    "    ga_best_score, ga_best_solution, ga_result_log = GA(x,y)\n",
    "    new_name = data_name + '_with_' + 'GA'\n",
    "    ga_resutls_dict[new_name] = ga_Results(ga_best_score, ga_best_solution, ga_result_log)"
   ]
  },
  {
   "cell_type": "code",
   "execution_count": null,
   "metadata": {},
   "outputs": [],
   "source": [
    "ga_result_keys = list(ga_resutls_dict.keys())\n",
    "ga_result_keys"
   ]
  },
  {
   "cell_type": "code",
   "execution_count": null,
   "metadata": {},
   "outputs": [],
   "source": [
    "ga_reuslt_data = ga_resutls_dict[ga_result_keys[1]]"
   ]
  },
  {
   "cell_type": "code",
   "execution_count": null,
   "metadata": {},
   "outputs": [],
   "source": [
    "ga_reuslt_data.best_score"
   ]
  },
  {
   "cell_type": "code",
   "execution_count": null,
   "metadata": {},
   "outputs": [],
   "source": [
    "ga_reuslt_data.best_solution"
   ]
  },
  {
   "cell_type": "code",
   "execution_count": null,
   "metadata": {},
   "outputs": [],
   "source": [
    "ga_reuslt_data.result_log[1]"
   ]
  },
  {
   "cell_type": "markdown",
   "metadata": {},
   "source": [
    "### 최종결과 확인 "
   ]
  },
  {
   "cell_type": "markdown",
   "metadata": {},
   "source": [
    "비고  \n",
    "4개의 데이터를 input_paramer.xlcs 에서 생성해서 데이터를 만듬  \n",
    "EXCEl 에서 수정을 통해 원하는데이터 개수만큼 생성 가능 "
   ]
  },
  {
   "cell_type": "markdown",
   "metadata": {},
   "source": [
    "### SA"
   ]
  },
  {
   "cell_type": "markdown",
   "metadata": {},
   "source": [
    "이때 sa 의경우는 실험 PARAMETER 4개를 추가로 입력받아서 결과를 출력  --> 16개 data\n",
    "1개의 경우만을 이용해서 GA 와 비교한다면 1개의 열로 수정해서 진행 "
   ]
  },
  {
   "cell_type": "code",
   "execution_count": null,
   "metadata": {},
   "outputs": [],
   "source": []
  },
  {
   "cell_type": "markdown",
   "metadata": {},
   "source": [
    "### GA"
   ]
  },
  {
   "cell_type": "code",
   "execution_count": null,
   "metadata": {},
   "outputs": [],
   "source": []
  }
 ],
 "metadata": {
  "kernelspec": {
   "display_name": "Python 3.10.5 64-bit",
   "language": "python",
   "name": "python3"
  },
  "language_info": {
   "codemirror_mode": {
    "name": "ipython",
    "version": 3
   },
   "file_extension": ".py",
   "mimetype": "text/x-python",
   "name": "python",
   "nbconvert_exporter": "python",
   "pygments_lexer": "ipython3",
   "version": "3.10.5"
  },
  "orig_nbformat": 4,
  "vscode": {
   "interpreter": {
    "hash": "e7666eb6031535d6e90b4b11b0b7a37060a652e5fd9029b2370c4f69b76902f5"
   }
  }
 },
 "nbformat": 4,
 "nbformat_minor": 2
}
